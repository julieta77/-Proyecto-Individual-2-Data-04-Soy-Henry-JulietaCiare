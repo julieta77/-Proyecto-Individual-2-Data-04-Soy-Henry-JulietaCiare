{
 "cells": [
  {
   "cell_type": "code",
   "execution_count": 1,
   "metadata": {},
   "outputs": [],
   "source": [
    "import pandas as pd\n",
    "import numpy as np\n",
    "import matplotlib.pyplot as plt\n",
    "import seaborn as sns"
   ]
  },
  {
   "cell_type": "code",
   "execution_count": 2,
   "metadata": {},
   "outputs": [],
   "source": [
    "train = pd.read_csv('properties_colombia_train.csv')"
   ]
  },
  {
   "cell_type": "code",
   "execution_count": 3,
   "metadata": {},
   "outputs": [
    {
     "name": "stdout",
     "output_type": "stream",
     "text": [
      "<class 'pandas.core.frame.DataFrame'>\n",
      "RangeIndex: 197549 entries, 0 to 197548\n",
      "Data columns (total 27 columns):\n",
      " #   Column           Non-Null Count   Dtype  \n",
      "---  ------           --------------   -----  \n",
      " 0   Unnamed: 0       197549 non-null  int64  \n",
      " 1   id               197549 non-null  object \n",
      " 2   ad_type          197549 non-null  object \n",
      " 3   start_date       197549 non-null  object \n",
      " 4   end_date         197549 non-null  object \n",
      " 5   created_on       197549 non-null  object \n",
      " 6   lat              148051 non-null  float64\n",
      " 7   lon              148051 non-null  float64\n",
      " 8   l1               197549 non-null  object \n",
      " 9   l2               197549 non-null  object \n",
      " 10  l3               186517 non-null  object \n",
      " 11  l4               45367 non-null   object \n",
      " 12  l5               27409 non-null   object \n",
      " 13  l6               6867 non-null    object \n",
      " 14  rooms            27537 non-null   float64\n",
      " 15  bedrooms         40525 non-null   float64\n",
      " 16  bathrooms        156467 non-null  float64\n",
      " 17  surface_total    6974 non-null    float64\n",
      " 18  surface_covered  9802 non-null    float64\n",
      " 19  price            197486 non-null  float64\n",
      " 20  currency         197482 non-null  object \n",
      " 21  price_period     35971 non-null   object \n",
      " 22  title            197548 non-null  object \n",
      " 23  description      197428 non-null  object \n",
      " 24  property_type    197549 non-null  object \n",
      " 25  operation_type   197549 non-null  object \n",
      " 26  geometry         197549 non-null  object \n",
      "dtypes: float64(8), int64(1), object(18)\n",
      "memory usage: 40.7+ MB\n"
     ]
    }
   ],
   "source": [
    "train.info()"
   ]
  },
  {
   "cell_type": "markdown",
   "metadata": {},
   "source": [
    "Primero veo el promedio de precios,luego hago una función que se le va a aplicar a precios para categorizar si es cara o no y creo la columna Target"
   ]
  },
  {
   "cell_type": "code",
   "execution_count": 3,
   "metadata": {},
   "outputs": [
    {
     "data": {
      "text/plain": [
       "643605091.0064613"
      ]
     },
     "execution_count": 3,
     "metadata": {},
     "output_type": "execute_result"
    }
   ],
   "source": [
    "promedio = train.price.mean()\n",
    "promedio"
   ]
  },
  {
   "cell_type": "code",
   "execution_count": 4,
   "metadata": {},
   "outputs": [],
   "source": [
    "def funcionTarget(price): #Entra los valores de la columna precios,compara con el promedio, y devuelve 0 o 1. Si es 0 es barata y si es 1 es cara\n",
    "        if price < promedio:\n",
    "            return 0\n",
    "        elif price >= promedio:\n",
    "            return 1\n"
   ]
  },
  {
   "cell_type": "code",
   "execution_count": 5,
   "metadata": {},
   "outputs": [],
   "source": [
    "train['target']= train.price.apply(funcionTarget) # Le aplicamos la función y creamos target"
   ]
  },
  {
   "cell_type": "markdown",
   "metadata": {},
   "source": [
    "Visualizamos los valores faltantes de cada columna."
   ]
  },
  {
   "cell_type": "code",
   "execution_count": 6,
   "metadata": {},
   "outputs": [
    {
     "data": {
      "text/plain": [
       "Unnamed: 0              0\n",
       "id                      0\n",
       "ad_type                 0\n",
       "start_date              0\n",
       "end_date                0\n",
       "created_on              0\n",
       "lat                 49498\n",
       "lon                 49498\n",
       "l1                      0\n",
       "l2                      0\n",
       "l3                  11032\n",
       "l4                 152182\n",
       "l5                 170140\n",
       "l6                 190682\n",
       "rooms              170012\n",
       "bedrooms           157024\n",
       "bathrooms           41082\n",
       "surface_total      190575\n",
       "surface_covered    187747\n",
       "price                  63\n",
       "currency               67\n",
       "price_period       161578\n",
       "title                   1\n",
       "description           121\n",
       "property_type           0\n",
       "operation_type          0\n",
       "geometry                0\n",
       "target                 63\n",
       "dtype: int64"
      ]
     },
     "execution_count": 6,
     "metadata": {},
     "output_type": "execute_result"
    }
   ],
   "source": [
    "train.isnull().sum()"
   ]
  },
  {
   "cell_type": "markdown",
   "metadata": {},
   "source": [
    "Eliminamos las columnas l4,l5 y l6 porque el porcentaje de valores faltantes es entre 77.04% y 96.52%"
   ]
  },
  {
   "cell_type": "code",
   "execution_count": 8,
   "metadata": {},
   "outputs": [
    {
     "name": "stdout",
     "output_type": "stream",
     "text": [
      "Porcentaje de valores faltantes de la columna l4: 77.03506471812057\n"
     ]
    }
   ],
   "source": [
    "print('Porcentaje de valores faltantes de la columna l4:', (train.l4.isnull().sum()/len(train)) * 100)"
   ]
  },
  {
   "cell_type": "code",
   "execution_count": 9,
   "metadata": {},
   "outputs": [
    {
     "name": "stdout",
     "output_type": "stream",
     "text": [
      "Porcentaje de valores faltantes de la columna l6: 96.52390039939458\n"
     ]
    }
   ],
   "source": [
    "print('Porcentaje de valores faltantes de la columna l6:', (train.l6.isnull().sum()/len(train)) * 100)"
   ]
  },
  {
   "cell_type": "code",
   "execution_count": 7,
   "metadata": {},
   "outputs": [],
   "source": [
    "train.drop(['l4', 'l5', 'l6'], axis=1,inplace=True) #eliminamos"
   ]
  },
  {
   "cell_type": "markdown",
   "metadata": {},
   "source": [
    "En las columnas rooms,bedrooms,bathrooms,surface_total,surface_covered,lat,lon y Target les agregamos valores tomando en cuenta el promedio."
   ]
  },
  {
   "cell_type": "code",
   "execution_count": 8,
   "metadata": {},
   "outputs": [],
   "source": [
    "from sklearn.impute import SimpleImputer\n",
    "imputer = SimpleImputer(strategy = 'mean')"
   ]
  },
  {
   "cell_type": "code",
   "execution_count": 9,
   "metadata": {},
   "outputs": [],
   "source": [
    "imputer.fit(train[['surface_total']])\n",
    "train['surface_total'] = imputer.transform(train[['surface_total']])\n",
    "imputer.fit(train[['rooms']])\n",
    "train['rooms'] = imputer.transform(train[['rooms']])\n",
    "imputer.fit(train[['bedrooms']])\n",
    "train['bedrooms'] = imputer.transform(train[['bedrooms']])\n",
    "imputer.fit(train[['bathrooms']])\n",
    "train['bathrooms'] = imputer.transform(train[['bathrooms']])\n",
    "imputer.fit(train[['surface_covered']])\n",
    "train['surface_covered']= imputer.transform(train[['surface_covered']])\n",
    "imputer.fit(train[['price']])\n",
    "train['price'] = imputer.transform(train[['price']])\n",
    "imputer.fit(train[['lat']])\n",
    "train['lat'] = imputer.transform(train[['lat']])\n",
    "imputer.fit(train[['lon']])\n",
    "train['lon'] = imputer.transform(train[['lon']])\n"
   ]
  },
  {
   "cell_type": "code",
   "execution_count": 12,
   "metadata": {},
   "outputs": [
    {
     "data": {
      "text/plain": [
       "Unnamed: 0              0\n",
       "id                      0\n",
       "ad_type                 0\n",
       "start_date              0\n",
       "end_date                0\n",
       "created_on              0\n",
       "lat                     0\n",
       "lon                     0\n",
       "l1                      0\n",
       "l2                      0\n",
       "l3                  11032\n",
       "rooms                   0\n",
       "bedrooms                0\n",
       "bathrooms               0\n",
       "surface_total           0\n",
       "surface_covered         0\n",
       "price                   0\n",
       "currency               67\n",
       "price_period       161578\n",
       "title                   1\n",
       "description           121\n",
       "property_type           0\n",
       "operation_type          0\n",
       "geometry                0\n",
       "target                 63\n",
       "dtype: int64"
      ]
     },
     "execution_count": 12,
     "metadata": {},
     "output_type": "execute_result"
    }
   ],
   "source": [
    "train.isnull().sum()"
   ]
  },
  {
   "cell_type": "markdown",
   "metadata": {},
   "source": [
    "Columnas title,description,price_period,currency y L3 les colocamos Na en los datos faltantes"
   ]
  },
  {
   "cell_type": "code",
   "execution_count": 10,
   "metadata": {},
   "outputs": [],
   "source": [
    "# Colocamos NA donde tengamos valores faltantes en esas columnas.\n",
    "\n",
    "train.title.replace(np.nan, 'NA', inplace = True)\n",
    "train.description.replace(np.nan, 'NA', inplace = True)\n",
    "train.price_period.replace(np.nan, 'NA', inplace = True)\n",
    "train.currency.replace(np.nan , 'NA', inplace=True)\n",
    "train.l3.replace(np.nan , 'NA', inplace=True)"
   ]
  },
  {
   "cell_type": "code",
   "execution_count": 10,
   "metadata": {},
   "outputs": [
    {
     "data": {
      "text/plain": [
       "Unnamed: 0          0\n",
       "id                  0\n",
       "ad_type             0\n",
       "start_date          0\n",
       "end_date            0\n",
       "created_on          0\n",
       "lat                 0\n",
       "lon                 0\n",
       "l1                  0\n",
       "l2                  0\n",
       "l3                  0\n",
       "rooms               0\n",
       "bedrooms            0\n",
       "bathrooms           0\n",
       "surface_total       0\n",
       "surface_covered     0\n",
       "price               0\n",
       "currency            0\n",
       "price_period        0\n",
       "title               0\n",
       "description         0\n",
       "property_type       0\n",
       "operation_type      0\n",
       "geometry            0\n",
       "target             63\n",
       "dtype: int64"
      ]
     },
     "execution_count": 10,
     "metadata": {},
     "output_type": "execute_result"
    }
   ],
   "source": [
    "train.isnull().sum() # verificamos "
   ]
  },
  {
   "cell_type": "markdown",
   "metadata": {},
   "source": [
    "Vuelvo a aplicar la misma función en target para que no tenga valores nulos "
   ]
  },
  {
   "cell_type": "code",
   "execution_count": 11,
   "metadata": {},
   "outputs": [],
   "source": [
    "promedio = train.price.mean()\n",
    "def funcionTarget(price): #Entra los valores de la columna precios,compara con el promedio, y devuelve 0 o 1. Si es 0 es barata y si es 1 es cara\n",
    "        if price < promedio:\n",
    "            return 0\n",
    "        elif price >= promedio:\n",
    "            return 1"
   ]
  },
  {
   "cell_type": "code",
   "execution_count": 12,
   "metadata": {},
   "outputs": [],
   "source": [
    "train['target']= train.price.apply(funcionTarget) # Le aplicamos la función y creamos target"
   ]
  },
  {
   "cell_type": "markdown",
   "metadata": {},
   "source": [
    "Realizar la conversión de variable categóricas a numérica con OneHotEncoder"
   ]
  },
  {
   "cell_type": "code",
   "execution_count": 13,
   "metadata": {},
   "outputs": [],
   "source": [
    "from sklearn.preprocessing import OneHotEncoder"
   ]
  },
  {
   "cell_type": "code",
   "execution_count": 14,
   "metadata": {},
   "outputs": [
    {
     "data": {
      "text/html": [
       "<div>\n",
       "<style scoped>\n",
       "    .dataframe tbody tr th:only-of-type {\n",
       "        vertical-align: middle;\n",
       "    }\n",
       "\n",
       "    .dataframe tbody tr th {\n",
       "        vertical-align: top;\n",
       "    }\n",
       "\n",
       "    .dataframe thead tr th {\n",
       "        text-align: left;\n",
       "    }\n",
       "</style>\n",
       "<table border=\"1\" class=\"dataframe\">\n",
       "  <thead>\n",
       "    <tr>\n",
       "      <th></th>\n",
       "      <th>Apartamento</th>\n",
       "      <th>Casa</th>\n",
       "    </tr>\n",
       "  </thead>\n",
       "  <tbody>\n",
       "    <tr>\n",
       "      <th>0</th>\n",
       "      <td>0.0</td>\n",
       "      <td>1.0</td>\n",
       "    </tr>\n",
       "    <tr>\n",
       "      <th>1</th>\n",
       "      <td>1.0</td>\n",
       "      <td>0.0</td>\n",
       "    </tr>\n",
       "    <tr>\n",
       "      <th>2</th>\n",
       "      <td>0.0</td>\n",
       "      <td>1.0</td>\n",
       "    </tr>\n",
       "    <tr>\n",
       "      <th>3</th>\n",
       "      <td>0.0</td>\n",
       "      <td>0.0</td>\n",
       "    </tr>\n",
       "    <tr>\n",
       "      <th>4</th>\n",
       "      <td>1.0</td>\n",
       "      <td>0.0</td>\n",
       "    </tr>\n",
       "    <tr>\n",
       "      <th>...</th>\n",
       "      <td>...</td>\n",
       "      <td>...</td>\n",
       "    </tr>\n",
       "    <tr>\n",
       "      <th>197544</th>\n",
       "      <td>1.0</td>\n",
       "      <td>0.0</td>\n",
       "    </tr>\n",
       "    <tr>\n",
       "      <th>197545</th>\n",
       "      <td>0.0</td>\n",
       "      <td>0.0</td>\n",
       "    </tr>\n",
       "    <tr>\n",
       "      <th>197546</th>\n",
       "      <td>0.0</td>\n",
       "      <td>0.0</td>\n",
       "    </tr>\n",
       "    <tr>\n",
       "      <th>197547</th>\n",
       "      <td>0.0</td>\n",
       "      <td>1.0</td>\n",
       "    </tr>\n",
       "    <tr>\n",
       "      <th>197548</th>\n",
       "      <td>1.0</td>\n",
       "      <td>0.0</td>\n",
       "    </tr>\n",
       "  </tbody>\n",
       "</table>\n",
       "<p>197549 rows × 2 columns</p>\n",
       "</div>"
      ],
      "text/plain": [
       "       Apartamento Casa\n",
       "0              0.0  1.0\n",
       "1              1.0  0.0\n",
       "2              0.0  1.0\n",
       "3              0.0  0.0\n",
       "4              1.0  0.0\n",
       "...            ...  ...\n",
       "197544         1.0  0.0\n",
       "197545         0.0  0.0\n",
       "197546         0.0  0.0\n",
       "197547         0.0  1.0\n",
       "197548         1.0  0.0\n",
       "\n",
       "[197549 rows x 2 columns]"
      ]
     },
     "execution_count": 14,
     "metadata": {},
     "output_type": "execute_result"
    }
   ],
   "source": [
    "codificador = OneHotEncoder()\n",
    "codificacion = codificador.fit_transform(train[['property_type']])\n",
    "nuevas_colums = pd.DataFrame(codificacion.toarray(), columns=codificador.categories_)\n",
    "nuevas_colums = nuevas_colums.iloc[:,[0,1]]\n",
    "nuevas_colums"
   ]
  },
  {
   "cell_type": "markdown",
   "metadata": {},
   "source": [
    "Descartar y elegir columnas"
   ]
  },
  {
   "cell_type": "code",
   "execution_count": 22,
   "metadata": {},
   "outputs": [
    {
     "data": {
      "text/plain": [
       "Index(['Unnamed: 0', 'id', 'ad_type', 'start_date', 'end_date', 'created_on',\n",
       "       'lat', 'lon', 'l1', 'l2', 'l3', 'rooms', 'bedrooms', 'bathrooms',\n",
       "       'surface_total', 'surface_covered', 'price', 'currency', 'price_period',\n",
       "       'title', 'description', 'property_type', 'operation_type', 'geometry',\n",
       "       'target'],\n",
       "      dtype='object')"
      ]
     },
     "execution_count": 22,
     "metadata": {},
     "output_type": "execute_result"
    }
   ],
   "source": [
    "train.columns"
   ]
  },
  {
   "cell_type": "code",
   "execution_count": 16,
   "metadata": {},
   "outputs": [
    {
     "data": {
      "text/html": [
       "<div>\n",
       "<style scoped>\n",
       "    .dataframe tbody tr th:only-of-type {\n",
       "        vertical-align: middle;\n",
       "    }\n",
       "\n",
       "    .dataframe tbody tr th {\n",
       "        vertical-align: top;\n",
       "    }\n",
       "\n",
       "    .dataframe thead th {\n",
       "        text-align: right;\n",
       "    }\n",
       "</style>\n",
       "<table border=\"1\" class=\"dataframe\">\n",
       "  <thead>\n",
       "    <tr style=\"text-align: right;\">\n",
       "      <th></th>\n",
       "      <th>lat</th>\n",
       "      <th>lon</th>\n",
       "      <th>rooms</th>\n",
       "      <th>surface_covered</th>\n",
       "      <th>bedrooms</th>\n",
       "      <th>bathrooms</th>\n",
       "      <th>surface_total</th>\n",
       "      <th>target</th>\n",
       "      <th>(Apartamento,)</th>\n",
       "      <th>(Casa,)</th>\n",
       "    </tr>\n",
       "  </thead>\n",
       "  <tbody>\n",
       "    <tr>\n",
       "      <th>0</th>\n",
       "      <td>6.203000</td>\n",
       "      <td>-75.572000</td>\n",
       "      <td>3.291208</td>\n",
       "      <td>948.335646</td>\n",
       "      <td>4.000000</td>\n",
       "      <td>4.000000</td>\n",
       "      <td>1352.132349</td>\n",
       "      <td>1</td>\n",
       "      <td>0.0</td>\n",
       "      <td>1.0</td>\n",
       "    </tr>\n",
       "    <tr>\n",
       "      <th>1</th>\n",
       "      <td>4.722748</td>\n",
       "      <td>-74.073115</td>\n",
       "      <td>3.291208</td>\n",
       "      <td>948.335646</td>\n",
       "      <td>3.000000</td>\n",
       "      <td>2.000000</td>\n",
       "      <td>1352.132349</td>\n",
       "      <td>0</td>\n",
       "      <td>1.0</td>\n",
       "      <td>0.0</td>\n",
       "    </tr>\n",
       "    <tr>\n",
       "      <th>2</th>\n",
       "      <td>4.709000</td>\n",
       "      <td>-74.030000</td>\n",
       "      <td>3.291208</td>\n",
       "      <td>948.335646</td>\n",
       "      <td>3.239062</td>\n",
       "      <td>2.000000</td>\n",
       "      <td>1352.132349</td>\n",
       "      <td>0</td>\n",
       "      <td>0.0</td>\n",
       "      <td>1.0</td>\n",
       "    </tr>\n",
       "    <tr>\n",
       "      <th>3</th>\n",
       "      <td>5.666001</td>\n",
       "      <td>-75.041045</td>\n",
       "      <td>3.291208</td>\n",
       "      <td>948.335646</td>\n",
       "      <td>3.239062</td>\n",
       "      <td>1.000000</td>\n",
       "      <td>1352.132349</td>\n",
       "      <td>1</td>\n",
       "      <td>0.0</td>\n",
       "      <td>0.0</td>\n",
       "    </tr>\n",
       "    <tr>\n",
       "      <th>4</th>\n",
       "      <td>5.666001</td>\n",
       "      <td>-75.041045</td>\n",
       "      <td>3.291208</td>\n",
       "      <td>948.335646</td>\n",
       "      <td>3.239062</td>\n",
       "      <td>2.000000</td>\n",
       "      <td>1352.132349</td>\n",
       "      <td>0</td>\n",
       "      <td>1.0</td>\n",
       "      <td>0.0</td>\n",
       "    </tr>\n",
       "    <tr>\n",
       "      <th>...</th>\n",
       "      <td>...</td>\n",
       "      <td>...</td>\n",
       "      <td>...</td>\n",
       "      <td>...</td>\n",
       "      <td>...</td>\n",
       "      <td>...</td>\n",
       "      <td>...</td>\n",
       "      <td>...</td>\n",
       "      <td>...</td>\n",
       "      <td>...</td>\n",
       "    </tr>\n",
       "    <tr>\n",
       "      <th>197544</th>\n",
       "      <td>4.649682</td>\n",
       "      <td>-74.161950</td>\n",
       "      <td>3.000000</td>\n",
       "      <td>948.335646</td>\n",
       "      <td>3.000000</td>\n",
       "      <td>2.639279</td>\n",
       "      <td>1352.132349</td>\n",
       "      <td>0</td>\n",
       "      <td>1.0</td>\n",
       "      <td>0.0</td>\n",
       "    </tr>\n",
       "    <tr>\n",
       "      <th>197545</th>\n",
       "      <td>4.668000</td>\n",
       "      <td>-74.055000</td>\n",
       "      <td>3.291208</td>\n",
       "      <td>17.000000</td>\n",
       "      <td>3.239062</td>\n",
       "      <td>1.000000</td>\n",
       "      <td>1352.132349</td>\n",
       "      <td>0</td>\n",
       "      <td>0.0</td>\n",
       "      <td>0.0</td>\n",
       "    </tr>\n",
       "    <tr>\n",
       "      <th>197546</th>\n",
       "      <td>3.413000</td>\n",
       "      <td>-76.541000</td>\n",
       "      <td>3.291208</td>\n",
       "      <td>948.335646</td>\n",
       "      <td>3.239062</td>\n",
       "      <td>1.000000</td>\n",
       "      <td>1352.132349</td>\n",
       "      <td>0</td>\n",
       "      <td>0.0</td>\n",
       "      <td>0.0</td>\n",
       "    </tr>\n",
       "    <tr>\n",
       "      <th>197547</th>\n",
       "      <td>4.674874</td>\n",
       "      <td>-74.147077</td>\n",
       "      <td>3.291208</td>\n",
       "      <td>948.335646</td>\n",
       "      <td>3.239062</td>\n",
       "      <td>2.000000</td>\n",
       "      <td>1352.132349</td>\n",
       "      <td>0</td>\n",
       "      <td>0.0</td>\n",
       "      <td>1.0</td>\n",
       "    </tr>\n",
       "    <tr>\n",
       "      <th>197548</th>\n",
       "      <td>10.935994</td>\n",
       "      <td>-74.802899</td>\n",
       "      <td>3.291208</td>\n",
       "      <td>948.335646</td>\n",
       "      <td>3.239062</td>\n",
       "      <td>1.000000</td>\n",
       "      <td>1352.132349</td>\n",
       "      <td>0</td>\n",
       "      <td>1.0</td>\n",
       "      <td>0.0</td>\n",
       "    </tr>\n",
       "  </tbody>\n",
       "</table>\n",
       "<p>197549 rows × 10 columns</p>\n",
       "</div>"
      ],
      "text/plain": [
       "              lat        lon     rooms  surface_covered  bedrooms  bathrooms  \\\n",
       "0        6.203000 -75.572000  3.291208       948.335646  4.000000   4.000000   \n",
       "1        4.722748 -74.073115  3.291208       948.335646  3.000000   2.000000   \n",
       "2        4.709000 -74.030000  3.291208       948.335646  3.239062   2.000000   \n",
       "3        5.666001 -75.041045  3.291208       948.335646  3.239062   1.000000   \n",
       "4        5.666001 -75.041045  3.291208       948.335646  3.239062   2.000000   \n",
       "...           ...        ...       ...              ...       ...        ...   \n",
       "197544   4.649682 -74.161950  3.000000       948.335646  3.000000   2.639279   \n",
       "197545   4.668000 -74.055000  3.291208        17.000000  3.239062   1.000000   \n",
       "197546   3.413000 -76.541000  3.291208       948.335646  3.239062   1.000000   \n",
       "197547   4.674874 -74.147077  3.291208       948.335646  3.239062   2.000000   \n",
       "197548  10.935994 -74.802899  3.291208       948.335646  3.239062   1.000000   \n",
       "\n",
       "        surface_total  target  (Apartamento,)  (Casa,)  \n",
       "0         1352.132349       1             0.0      1.0  \n",
       "1         1352.132349       0             1.0      0.0  \n",
       "2         1352.132349       0             0.0      1.0  \n",
       "3         1352.132349       1             0.0      0.0  \n",
       "4         1352.132349       0             1.0      0.0  \n",
       "...               ...     ...             ...      ...  \n",
       "197544    1352.132349       0             1.0      0.0  \n",
       "197545    1352.132349       0             0.0      0.0  \n",
       "197546    1352.132349       0             0.0      0.0  \n",
       "197547    1352.132349       0             0.0      1.0  \n",
       "197548    1352.132349       0             1.0      0.0  \n",
       "\n",
       "[197549 rows x 10 columns]"
      ]
     },
     "execution_count": 16,
     "metadata": {},
     "output_type": "execute_result"
    }
   ],
   "source": [
    "train = train[['lat','lon','rooms','surface_covered', 'bedrooms', 'bathrooms','surface_total','target']]\n",
    "datos = pd.concat([train,nuevas_colums],axis=1)\n",
    "datos "
   ]
  },
  {
   "cell_type": "markdown",
   "metadata": {},
   "source": [
    "Ver la correlación de columnas elegidas"
   ]
  },
  {
   "cell_type": "code",
   "execution_count": 17,
   "metadata": {},
   "outputs": [
    {
     "data": {
      "image/png": "[encoded data removed]",
      "text/plain": [
       "<Figure size 1000x1000 with 2 Axes>"
      ]
     },
     "metadata": {},
     "output_type": "display_data"
    }
   ],
   "source": [
    "corr = datos.corr()\n",
    "plt.figure(figsize=(10,10))\n",
    "sns.heatmap(corr, \n",
    "        xticklabels=corr.columns,\n",
    "        yticklabels=corr.columns,\n",
    "        annot=True)\n",
    "plt.show()"
   ]
  },
  {
   "cell_type": "markdown",
   "metadata": {},
   "source": [
    "Asignado variables X e Y para el entrenamiento"
   ]
  },
  {
   "cell_type": "code",
   "execution_count": 18,
   "metadata": {},
   "outputs": [
    {
     "data": {
      "text/html": [
       "<div>\n",
       "<style scoped>\n",
       "    .dataframe tbody tr th:only-of-type {\n",
       "        vertical-align: middle;\n",
       "    }\n",
       "\n",
       "    .dataframe tbody tr th {\n",
       "        vertical-align: top;\n",
       "    }\n",
       "\n",
       "    .dataframe thead th {\n",
       "        text-align: right;\n",
       "    }\n",
       "</style>\n",
       "<table border=\"1\" class=\"dataframe\">\n",
       "  <thead>\n",
       "    <tr style=\"text-align: right;\">\n",
       "      <th></th>\n",
       "      <th>lat</th>\n",
       "      <th>lon</th>\n",
       "      <th>rooms</th>\n",
       "      <th>surface_covered</th>\n",
       "      <th>bedrooms</th>\n",
       "      <th>bathrooms</th>\n",
       "      <th>surface_total</th>\n",
       "      <th>(Apartamento,)</th>\n",
       "      <th>(Casa,)</th>\n",
       "    </tr>\n",
       "  </thead>\n",
       "  <tbody>\n",
       "    <tr>\n",
       "      <th>0</th>\n",
       "      <td>6.203000</td>\n",
       "      <td>-75.572000</td>\n",
       "      <td>3.291208</td>\n",
       "      <td>948.335646</td>\n",
       "      <td>4.000000</td>\n",
       "      <td>4.000000</td>\n",
       "      <td>1352.132349</td>\n",
       "      <td>0.0</td>\n",
       "      <td>1.0</td>\n",
       "    </tr>\n",
       "    <tr>\n",
       "      <th>1</th>\n",
       "      <td>4.722748</td>\n",
       "      <td>-74.073115</td>\n",
       "      <td>3.291208</td>\n",
       "      <td>948.335646</td>\n",
       "      <td>3.000000</td>\n",
       "      <td>2.000000</td>\n",
       "      <td>1352.132349</td>\n",
       "      <td>1.0</td>\n",
       "      <td>0.0</td>\n",
       "    </tr>\n",
       "    <tr>\n",
       "      <th>2</th>\n",
       "      <td>4.709000</td>\n",
       "      <td>-74.030000</td>\n",
       "      <td>3.291208</td>\n",
       "      <td>948.335646</td>\n",
       "      <td>3.239062</td>\n",
       "      <td>2.000000</td>\n",
       "      <td>1352.132349</td>\n",
       "      <td>0.0</td>\n",
       "      <td>1.0</td>\n",
       "    </tr>\n",
       "    <tr>\n",
       "      <th>3</th>\n",
       "      <td>5.666001</td>\n",
       "      <td>-75.041045</td>\n",
       "      <td>3.291208</td>\n",
       "      <td>948.335646</td>\n",
       "      <td>3.239062</td>\n",
       "      <td>1.000000</td>\n",
       "      <td>1352.132349</td>\n",
       "      <td>0.0</td>\n",
       "      <td>0.0</td>\n",
       "    </tr>\n",
       "    <tr>\n",
       "      <th>4</th>\n",
       "      <td>5.666001</td>\n",
       "      <td>-75.041045</td>\n",
       "      <td>3.291208</td>\n",
       "      <td>948.335646</td>\n",
       "      <td>3.239062</td>\n",
       "      <td>2.000000</td>\n",
       "      <td>1352.132349</td>\n",
       "      <td>1.0</td>\n",
       "      <td>0.0</td>\n",
       "    </tr>\n",
       "    <tr>\n",
       "      <th>...</th>\n",
       "      <td>...</td>\n",
       "      <td>...</td>\n",
       "      <td>...</td>\n",
       "      <td>...</td>\n",
       "      <td>...</td>\n",
       "      <td>...</td>\n",
       "      <td>...</td>\n",
       "      <td>...</td>\n",
       "      <td>...</td>\n",
       "    </tr>\n",
       "    <tr>\n",
       "      <th>197544</th>\n",
       "      <td>4.649682</td>\n",
       "      <td>-74.161950</td>\n",
       "      <td>3.000000</td>\n",
       "      <td>948.335646</td>\n",
       "      <td>3.000000</td>\n",
       "      <td>2.639279</td>\n",
       "      <td>1352.132349</td>\n",
       "      <td>1.0</td>\n",
       "      <td>0.0</td>\n",
       "    </tr>\n",
       "    <tr>\n",
       "      <th>197545</th>\n",
       "      <td>4.668000</td>\n",
       "      <td>-74.055000</td>\n",
       "      <td>3.291208</td>\n",
       "      <td>17.000000</td>\n",
       "      <td>3.239062</td>\n",
       "      <td>1.000000</td>\n",
       "      <td>1352.132349</td>\n",
       "      <td>0.0</td>\n",
       "      <td>0.0</td>\n",
       "    </tr>\n",
       "    <tr>\n",
       "      <th>197546</th>\n",
       "      <td>3.413000</td>\n",
       "      <td>-76.541000</td>\n",
       "      <td>3.291208</td>\n",
       "      <td>948.335646</td>\n",
       "      <td>3.239062</td>\n",
       "      <td>1.000000</td>\n",
       "      <td>1352.132349</td>\n",
       "      <td>0.0</td>\n",
       "      <td>0.0</td>\n",
       "    </tr>\n",
       "    <tr>\n",
       "      <th>197547</th>\n",
       "      <td>4.674874</td>\n",
       "      <td>-74.147077</td>\n",
       "      <td>3.291208</td>\n",
       "      <td>948.335646</td>\n",
       "      <td>3.239062</td>\n",
       "      <td>2.000000</td>\n",
       "      <td>1352.132349</td>\n",
       "      <td>0.0</td>\n",
       "      <td>1.0</td>\n",
       "    </tr>\n",
       "    <tr>\n",
       "      <th>197548</th>\n",
       "      <td>10.935994</td>\n",
       "      <td>-74.802899</td>\n",
       "      <td>3.291208</td>\n",
       "      <td>948.335646</td>\n",
       "      <td>3.239062</td>\n",
       "      <td>1.000000</td>\n",
       "      <td>1352.132349</td>\n",
       "      <td>1.0</td>\n",
       "      <td>0.0</td>\n",
       "    </tr>\n",
       "  </tbody>\n",
       "</table>\n",
       "<p>197549 rows × 9 columns</p>\n",
       "</div>"
      ],
      "text/plain": [
       "              lat        lon     rooms  surface_covered  bedrooms  bathrooms  \\\n",
       "0        6.203000 -75.572000  3.291208       948.335646  4.000000   4.000000   \n",
       "1        4.722748 -74.073115  3.291208       948.335646  3.000000   2.000000   \n",
       "2        4.709000 -74.030000  3.291208       948.335646  3.239062   2.000000   \n",
       "3        5.666001 -75.041045  3.291208       948.335646  3.239062   1.000000   \n",
       "4        5.666001 -75.041045  3.291208       948.335646  3.239062   2.000000   \n",
       "...           ...        ...       ...              ...       ...        ...   \n",
       "197544   4.649682 -74.161950  3.000000       948.335646  3.000000   2.639279   \n",
       "197545   4.668000 -74.055000  3.291208        17.000000  3.239062   1.000000   \n",
       "197546   3.413000 -76.541000  3.291208       948.335646  3.239062   1.000000   \n",
       "197547   4.674874 -74.147077  3.291208       948.335646  3.239062   2.000000   \n",
       "197548  10.935994 -74.802899  3.291208       948.335646  3.239062   1.000000   \n",
       "\n",
       "        surface_total  (Apartamento,)  (Casa,)  \n",
       "0         1352.132349             0.0      1.0  \n",
       "1         1352.132349             1.0      0.0  \n",
       "2         1352.132349             0.0      1.0  \n",
       "3         1352.132349             0.0      0.0  \n",
       "4         1352.132349             1.0      0.0  \n",
       "...               ...             ...      ...  \n",
       "197544    1352.132349             1.0      0.0  \n",
       "197545    1352.132349             0.0      0.0  \n",
       "197546    1352.132349             0.0      0.0  \n",
       "197547    1352.132349             0.0      1.0  \n",
       "197548    1352.132349             1.0      0.0  \n",
       "\n",
       "[197549 rows x 9 columns]"
      ]
     },
     "execution_count": 18,
     "metadata": {},
     "output_type": "execute_result"
    }
   ],
   "source": [
    "x = datos.drop(['target'],axis=1) \n",
    "x"
   ]
  },
  {
   "cell_type": "code",
   "execution_count": 19,
   "metadata": {},
   "outputs": [
    {
     "data": {
      "text/plain": [
       "0         1\n",
       "1         0\n",
       "2         0\n",
       "3         1\n",
       "4         0\n",
       "         ..\n",
       "197544    0\n",
       "197545    0\n",
       "197546    0\n",
       "197547    0\n",
       "197548    0\n",
       "Name: target, Length: 197549, dtype: int64"
      ]
     },
     "execution_count": 19,
     "metadata": {},
     "output_type": "execute_result"
    }
   ],
   "source": [
    "y = datos.target\n",
    "y"
   ]
  },
  {
   "cell_type": "markdown",
   "metadata": {},
   "source": [
    "Elección de modelo"
   ]
  },
  {
   "cell_type": "code",
   "execution_count": 20,
   "metadata": {},
   "outputs": [],
   "source": [
    "from sklearn.preprocessing import StandardScaler\n",
    "from sklearn.pipeline import Pipeline\n",
    "from sklearn.linear_model import LogisticRegression\n",
    "from sklearn.neighbors import KNeighborsClassifier\n",
    "from sklearn.tree import DecisionTreeClassifier\n",
    "from sklearn.model_selection import train_test_split \n",
    "from sklearn import preprocessing"
   ]
  },
  {
   "cell_type": "code",
   "execution_count": 21,
   "metadata": {},
   "outputs": [],
   "source": [
    "X_train, X_test,y_train,y_test =train_test_split(x,y,test_size=0.30, random_state=42)"
   ]
  },
  {
   "cell_type": "code",
   "execution_count": 22,
   "metadata": {},
   "outputs": [],
   "source": [
    "pipe_lr = Pipeline([('scl', StandardScaler()),\n",
    "\t\t\t('clf', LogisticRegression(random_state=42))])"
   ]
  },
  {
   "cell_type": "code",
   "execution_count": 23,
   "metadata": {},
   "outputs": [],
   "source": [
    "pipe_dt = Pipeline([('scl', StandardScaler()),\n",
    "\t\t\t('clf', DecisionTreeClassifier(random_state=42))])"
   ]
  },
  {
   "cell_type": "code",
   "execution_count": 24,
   "metadata": {},
   "outputs": [],
   "source": [
    "pipe_kc = Pipeline([('scl', StandardScaler()),\n",
    "\t\t\t('clf', KNeighborsClassifier())])"
   ]
  },
  {
   "cell_type": "code",
   "execution_count": 25,
   "metadata": {},
   "outputs": [],
   "source": [
    "pipelines = [pipe_lr, pipe_kc, pipe_dt] # lo guardo en una lista a lo tres pipeline"
   ]
  },
  {
   "cell_type": "code",
   "execution_count": 26,
   "metadata": {},
   "outputs": [],
   "source": [
    "pipe_dict = {0: 'Regresión Logística', 1: 'kvecinos', 2: 'Árbol de decisión'}"
   ]
  },
  {
   "cell_type": "code",
   "execution_count": 27,
   "metadata": {},
   "outputs": [
    {
     "name": "stderr",
     "output_type": "stream",
     "text": [
      "C:\\Users\\julie\\AppData\\Local\\Packages\\PythonSoftwareFoundation.Python.3.8_qbz5n2kfra8p0\\LocalCache\\local-packages\\Python38\\site-packages\\sklearn\\utils\\validation.py:1858: FutureWarning: Feature names only support names that are all strings. Got feature names with dtypes: ['str', 'tuple']. An error will be raised in 1.2.\n",
      "  warnings.warn(\n",
      "C:\\Users\\julie\\AppData\\Local\\Packages\\PythonSoftwareFoundation.Python.3.8_qbz5n2kfra8p0\\LocalCache\\local-packages\\Python38\\site-packages\\sklearn\\utils\\validation.py:1858: FutureWarning: Feature names only support names that are all strings. Got feature names with dtypes: ['str', 'tuple']. An error will be raised in 1.2.\n",
      "  warnings.warn(\n",
      "C:\\Users\\julie\\AppData\\Local\\Packages\\PythonSoftwareFoundation.Python.3.8_qbz5n2kfra8p0\\LocalCache\\local-packages\\Python38\\site-packages\\sklearn\\utils\\validation.py:1858: FutureWarning: Feature names only support names that are all strings. Got feature names with dtypes: ['str', 'tuple']. An error will be raised in 1.2.\n",
      "  warnings.warn(\n",
      "C:\\Users\\julie\\AppData\\Local\\Packages\\PythonSoftwareFoundation.Python.3.8_qbz5n2kfra8p0\\LocalCache\\local-packages\\Python38\\site-packages\\sklearn\\utils\\validation.py:1858: FutureWarning: Feature names only support names that are all strings. Got feature names with dtypes: ['str', 'tuple']. An error will be raised in 1.2.\n",
      "  warnings.warn(\n",
      "C:\\Users\\julie\\AppData\\Local\\Packages\\PythonSoftwareFoundation.Python.3.8_qbz5n2kfra8p0\\LocalCache\\local-packages\\Python38\\site-packages\\sklearn\\utils\\validation.py:1858: FutureWarning: Feature names only support names that are all strings. Got feature names with dtypes: ['str', 'tuple']. An error will be raised in 1.2.\n",
      "  warnings.warn(\n",
      "C:\\Users\\julie\\AppData\\Local\\Packages\\PythonSoftwareFoundation.Python.3.8_qbz5n2kfra8p0\\LocalCache\\local-packages\\Python38\\site-packages\\sklearn\\utils\\validation.py:1858: FutureWarning: Feature names only support names that are all strings. Got feature names with dtypes: ['str', 'tuple']. An error will be raised in 1.2.\n",
      "  warnings.warn(\n"
     ]
    }
   ],
   "source": [
    "for i in pipelines: # recorro la lista para entrenar \n",
    "\ti.fit(X_train, y_train)"
   ]
  },
  {
   "cell_type": "code",
   "execution_count": 28,
   "metadata": {},
   "outputs": [
    {
     "name": "stderr",
     "output_type": "stream",
     "text": [
      "C:\\Users\\julie\\AppData\\Local\\Packages\\PythonSoftwareFoundation.Python.3.8_qbz5n2kfra8p0\\LocalCache\\local-packages\\Python38\\site-packages\\sklearn\\utils\\validation.py:1858: FutureWarning: Feature names only support names that are all strings. Got feature names with dtypes: ['str', 'tuple']. An error will be raised in 1.2.\n",
      "  warnings.warn(\n",
      "C:\\Users\\julie\\AppData\\Local\\Packages\\PythonSoftwareFoundation.Python.3.8_qbz5n2kfra8p0\\LocalCache\\local-packages\\Python38\\site-packages\\sklearn\\utils\\validation.py:1858: FutureWarning: Feature names only support names that are all strings. Got feature names with dtypes: ['str', 'tuple']. An error will be raised in 1.2.\n",
      "  warnings.warn(\n"
     ]
    },
    {
     "name": "stdout",
     "output_type": "stream",
     "text": [
      "Regresión Logística pipeline accuracy en test: 0.806\n",
      "kvecinos pipeline accuracy en test: 0.868\n",
      "Árbol de decisión pipeline accuracy en test: 0.893\n"
     ]
    },
    {
     "name": "stderr",
     "output_type": "stream",
     "text": [
      "C:\\Users\\julie\\AppData\\Local\\Packages\\PythonSoftwareFoundation.Python.3.8_qbz5n2kfra8p0\\LocalCache\\local-packages\\Python38\\site-packages\\sklearn\\utils\\validation.py:1858: FutureWarning: Feature names only support names that are all strings. Got feature names with dtypes: ['str', 'tuple']. An error will be raised in 1.2.\n",
      "  warnings.warn(\n"
     ]
    }
   ],
   "source": [
    "for idx, val in enumerate(pipelines): # Veo el que tiene mejor accuracy\n",
    "\tprint('%s pipeline accuracy en test: %.3f' % (pipe_dict[idx], val.score(X_test, y_test)))"
   ]
  },
  {
   "cell_type": "markdown",
   "metadata": {},
   "source": [
    "Guardando el mejor modelo en joblib"
   ]
  },
  {
   "cell_type": "code",
   "execution_count": 29,
   "metadata": {},
   "outputs": [
    {
     "data": {
      "text/plain": [
       "['Mejor_pipeline.pkl']"
      ]
     },
     "execution_count": 29,
     "metadata": {},
     "output_type": "execute_result"
    }
   ],
   "source": [
    "import joblib \n",
    "\n",
    "joblib.dump(pipe_dt, 'Mejor_pipeline.pkl', compress=1)"
   ]
  },
  {
   "cell_type": "code",
   "execution_count": 30,
   "metadata": {},
   "outputs": [],
   "source": [
    "modelo = joblib.load('Mejor_pipeline.pkl') "
   ]
  },
  {
   "cell_type": "code",
   "execution_count": 31,
   "metadata": {},
   "outputs": [
    {
     "name": "stderr",
     "output_type": "stream",
     "text": [
      "C:\\Users\\julie\\AppData\\Local\\Packages\\PythonSoftwareFoundation.Python.3.8_qbz5n2kfra8p0\\LocalCache\\local-packages\\Python38\\site-packages\\sklearn\\utils\\validation.py:1858: FutureWarning: Feature names only support names that are all strings. Got feature names with dtypes: ['str', 'tuple']. An error will be raised in 1.2.\n",
      "  warnings.warn(\n",
      "C:\\Users\\julie\\AppData\\Local\\Packages\\PythonSoftwareFoundation.Python.3.8_qbz5n2kfra8p0\\LocalCache\\local-packages\\Python38\\site-packages\\sklearn\\utils\\validation.py:1858: FutureWarning: Feature names only support names that are all strings. Got feature names with dtypes: ['str', 'tuple']. An error will be raised in 1.2.\n",
      "  warnings.warn(\n"
     ]
    },
    {
     "data": {
      "text/html": [
       "<style>#sk-container-id-1 {color: black;background-color: white;}#sk-container-id-1 pre{padding: 0;}#sk-container-id-1 div.sk-toggleable {background-color: white;}#sk-container-id-1 label.sk-toggleable__label {cursor: pointer;display: block;width: 100%;margin-bottom: 0;padding: 0.3em;box-sizing: border-box;text-align: center;}#sk-container-id-1 label.sk-toggleable__label-arrow:before {content: \"▸\";float: left;margin-right: 0.25em;color: #696969;}#sk-container-id-1 label.sk-toggleable__label-arrow:hover:before {color: black;}#sk-container-id-1 div.sk-estimator:hover label.sk-toggleable__label-arrow:before {color: black;}#sk-container-id-1 div.sk-toggleable__content {max-height: 0;max-width: 0;overflow: hidden;text-align: left;background-color: #f0f8ff;}#sk-container-id-1 div.sk-toggleable__content pre {margin: 0.2em;color: black;border-radius: 0.25em;background-color: #f0f8ff;}#sk-container-id-1 input.sk-toggleable__control:checked~div.sk-toggleable__content {max-height: 200px;max-width: 100%;overflow: auto;}#sk-container-id-1 input.sk-toggleable__control:checked~label.sk-toggleable__label-arrow:before {content: \"▾\";}#sk-container-id-1 div.sk-estimator input.sk-toggleable__control:checked~label.sk-toggleable__label {background-color: #d4ebff;}#sk-container-id-1 div.sk-label input.sk-toggleable__control:checked~label.sk-toggleable__label {background-color: #d4ebff;}#sk-container-id-1 input.sk-hidden--visually {border: 0;clip: rect(1px 1px 1px 1px);clip: rect(1px, 1px, 1px, 1px);height: 1px;margin: -1px;overflow: hidden;padding: 0;position: absolute;width: 1px;}#sk-container-id-1 div.sk-estimator {font-family: monospace;background-color: #f0f8ff;border: 1px dotted black;border-radius: 0.25em;box-sizing: border-box;margin-bottom: 0.5em;}#sk-container-id-1 div.sk-estimator:hover {background-color: #d4ebff;}#sk-container-id-1 div.sk-parallel-item::after {content: \"\";width: 100%;border-bottom: 1px solid gray;flex-grow: 1;}#sk-container-id-1 div.sk-label:hover label.sk-toggleable__label {background-color: #d4ebff;}#sk-container-id-1 div.sk-serial::before {content: \"\";position: absolute;border-left: 1px solid gray;box-sizing: border-box;top: 0;bottom: 0;left: 50%;z-index: 0;}#sk-container-id-1 div.sk-serial {display: flex;flex-direction: column;align-items: center;background-color: white;padding-right: 0.2em;padding-left: 0.2em;position: relative;}#sk-container-id-1 div.sk-item {position: relative;z-index: 1;}#sk-container-id-1 div.sk-parallel {display: flex;align-items: stretch;justify-content: center;background-color: white;position: relative;}#sk-container-id-1 div.sk-item::before, #sk-container-id-1 div.sk-parallel-item::before {content: \"\";position: absolute;border-left: 1px solid gray;box-sizing: border-box;top: 0;bottom: 0;left: 50%;z-index: -1;}#sk-container-id-1 div.sk-parallel-item {display: flex;flex-direction: column;z-index: 1;position: relative;background-color: white;}#sk-container-id-1 div.sk-parallel-item:first-child::after {align-self: flex-end;width: 50%;}#sk-container-id-1 div.sk-parallel-item:last-child::after {align-self: flex-start;width: 50%;}#sk-container-id-1 div.sk-parallel-item:only-child::after {width: 0;}#sk-container-id-1 div.sk-dashed-wrapped {border: 1px dashed gray;margin: 0 0.4em 0.5em 0.4em;box-sizing: border-box;padding-bottom: 0.4em;background-color: white;}#sk-container-id-1 div.sk-label label {font-family: monospace;font-weight: bold;display: inline-block;line-height: 1.2em;}#sk-container-id-1 div.sk-label-container {text-align: center;}#sk-container-id-1 div.sk-container {/* jupyter's `normalize.less` sets `[hidden] { display: none; }` but bootstrap.min.css set `[hidden] { display: none !important; }` so we also need the `!important` here to be able to override the default hidden behavior on the sphinx rendered scikit-learn.org. See: https://github.com/scikit-learn/scikit-learn/issues/21755 */display: inline-block !important;position: relative;}#sk-container-id-1 div.sk-text-repr-fallback {display: none;}</style><div id=\"sk-container-id-1\" class=\"sk-top-container\"><div class=\"sk-text-repr-fallback\"><pre>Pipeline(steps=[(&#x27;scl&#x27;, StandardScaler()),\n",
       "                (&#x27;clf&#x27;, DecisionTreeClassifier(random_state=42))])</pre><b>In a Jupyter environment, please rerun this cell to show the HTML representation or trust the notebook. <br />On GitHub, the HTML representation is unable to render, please try loading this page with nbviewer.org.</b></div><div class=\"sk-container\" hidden><div class=\"sk-item sk-dashed-wrapped\"><div class=\"sk-label-container\"><div class=\"sk-label sk-toggleable\"><input class=\"sk-toggleable__control sk-hidden--visually\" id=\"sk-estimator-id-1\" type=\"checkbox\" ><label for=\"sk-estimator-id-1\" class=\"sk-toggleable__label sk-toggleable__label-arrow\">Pipeline</label><div class=\"sk-toggleable__content\"><pre>Pipeline(steps=[(&#x27;scl&#x27;, StandardScaler()),\n",
       "                (&#x27;clf&#x27;, DecisionTreeClassifier(random_state=42))])</pre></div></div></div><div class=\"sk-serial\"><div class=\"sk-item\"><div class=\"sk-estimator sk-toggleable\"><input class=\"sk-toggleable__control sk-hidden--visually\" id=\"sk-estimator-id-2\" type=\"checkbox\" ><label for=\"sk-estimator-id-2\" class=\"sk-toggleable__label sk-toggleable__label-arrow\">StandardScaler</label><div class=\"sk-toggleable__content\"><pre>StandardScaler()</pre></div></div></div><div class=\"sk-item\"><div class=\"sk-estimator sk-toggleable\"><input class=\"sk-toggleable__control sk-hidden--visually\" id=\"sk-estimator-id-3\" type=\"checkbox\" ><label for=\"sk-estimator-id-3\" class=\"sk-toggleable__label sk-toggleable__label-arrow\">DecisionTreeClassifier</label><div class=\"sk-toggleable__content\"><pre>DecisionTreeClassifier(random_state=42)</pre></div></div></div></div></div></div></div>"
      ],
      "text/plain": [
       "Pipeline(steps=[('scl', StandardScaler()),\n",
       "                ('clf', DecisionTreeClassifier(random_state=42))])"
      ]
     },
     "execution_count": 31,
     "metadata": {},
     "output_type": "execute_result"
    }
   ],
   "source": [
    "modelo.fit(X_train,y_train) # lo entreno"
   ]
  },
  {
   "cell_type": "code",
   "execution_count": 32,
   "metadata": {},
   "outputs": [
    {
     "name": "stderr",
     "output_type": "stream",
     "text": [
      "C:\\Users\\julie\\AppData\\Local\\Packages\\PythonSoftwareFoundation.Python.3.8_qbz5n2kfra8p0\\LocalCache\\local-packages\\Python38\\site-packages\\sklearn\\utils\\validation.py:1858: FutureWarning: Feature names only support names that are all strings. Got feature names with dtypes: ['str', 'tuple']. An error will be raised in 1.2.\n",
      "  warnings.warn(\n"
     ]
    }
   ],
   "source": [
    "y_pre_train = modelo.predict(X_test) #hago una predicción con los datos de train "
   ]
  },
  {
   "cell_type": "code",
   "execution_count": 33,
   "metadata": {},
   "outputs": [
    {
     "name": "stdout",
     "output_type": "stream",
     "text": [
      "              precision    recall  f1-score   support\n",
      "\n",
      "           0       0.92      0.94      0.93     45460\n",
      "           1       0.79      0.73      0.76     13805\n",
      "\n",
      "    accuracy                           0.89     59265\n",
      "   macro avg       0.86      0.84      0.85     59265\n",
      "weighted avg       0.89      0.89      0.89     59265\n",
      "\n"
     ]
    }
   ],
   "source": [
    "from sklearn.metrics import  classification_report \n",
    "print(classification_report(y_test,y_pre_train)) # Observo su recall y accuracy"
   ]
  },
  {
   "cell_type": "markdown",
   "metadata": {},
   "source": [
    "Visualizamos los datos  de test"
   ]
  },
  {
   "cell_type": "code",
   "execution_count": 44,
   "metadata": {},
   "outputs": [],
   "source": [
    "test = pd.read_csv('properties_colombia_test.csv')"
   ]
  },
  {
   "cell_type": "code",
   "execution_count": 35,
   "metadata": {},
   "outputs": [
    {
     "data": {
      "text/plain": [
       "Unnamed: 0             0\n",
       "id                     0\n",
       "ad_type                0\n",
       "start_date             0\n",
       "end_date               0\n",
       "created_on             0\n",
       "lat                16417\n",
       "lon                16417\n",
       "l1                     0\n",
       "l2                     0\n",
       "l3                  3657\n",
       "l4                 50776\n",
       "l5                 56798\n",
       "l6                 63486\n",
       "rooms              56740\n",
       "bedrooms           52447\n",
       "bathrooms          13796\n",
       "surface_total      63536\n",
       "surface_covered    62545\n",
       "currency              17\n",
       "price_period       53729\n",
       "title                  0\n",
       "description           27\n",
       "property_type          0\n",
       "operation_type         0\n",
       "geometry               0\n",
       "dtype: int64"
      ]
     },
     "execution_count": 35,
     "metadata": {},
     "output_type": "execute_result"
    }
   ],
   "source": [
    "test.isnull().sum() # veo si hay nulos "
   ]
  },
  {
   "cell_type": "code",
   "execution_count": 45,
   "metadata": {},
   "outputs": [],
   "source": [
    "codificadorT = OneHotEncoder()\n",
    "codificacionT = codificadorT.fit_transform(test[['property_type']])\n",
    "nuevas_columsT = pd.DataFrame(codificacionT.toarray(), columns=codificadorT.categories_)\n",
    "nuevas_columsT = nuevas_columsT.iloc[:,[0,1]]"
   ]
  },
  {
   "cell_type": "code",
   "execution_count": 37,
   "metadata": {},
   "outputs": [
    {
     "data": {
      "text/html": [
       "<div>\n",
       "<style scoped>\n",
       "    .dataframe tbody tr th:only-of-type {\n",
       "        vertical-align: middle;\n",
       "    }\n",
       "\n",
       "    .dataframe tbody tr th {\n",
       "        vertical-align: top;\n",
       "    }\n",
       "\n",
       "    .dataframe thead tr th {\n",
       "        text-align: left;\n",
       "    }\n",
       "</style>\n",
       "<table border=\"1\" class=\"dataframe\">\n",
       "  <thead>\n",
       "    <tr>\n",
       "      <th></th>\n",
       "      <th>Apartamento</th>\n",
       "      <th>Casa</th>\n",
       "    </tr>\n",
       "  </thead>\n",
       "  <tbody>\n",
       "    <tr>\n",
       "      <th>0</th>\n",
       "      <td>0.0</td>\n",
       "      <td>1.0</td>\n",
       "    </tr>\n",
       "    <tr>\n",
       "      <th>1</th>\n",
       "      <td>1.0</td>\n",
       "      <td>0.0</td>\n",
       "    </tr>\n",
       "    <tr>\n",
       "      <th>2</th>\n",
       "      <td>0.0</td>\n",
       "      <td>1.0</td>\n",
       "    </tr>\n",
       "    <tr>\n",
       "      <th>3</th>\n",
       "      <td>0.0</td>\n",
       "      <td>0.0</td>\n",
       "    </tr>\n",
       "    <tr>\n",
       "      <th>4</th>\n",
       "      <td>0.0</td>\n",
       "      <td>1.0</td>\n",
       "    </tr>\n",
       "    <tr>\n",
       "      <th>...</th>\n",
       "      <td>...</td>\n",
       "      <td>...</td>\n",
       "    </tr>\n",
       "    <tr>\n",
       "      <th>65845</th>\n",
       "      <td>1.0</td>\n",
       "      <td>0.0</td>\n",
       "    </tr>\n",
       "    <tr>\n",
       "      <th>65846</th>\n",
       "      <td>1.0</td>\n",
       "      <td>0.0</td>\n",
       "    </tr>\n",
       "    <tr>\n",
       "      <th>65847</th>\n",
       "      <td>0.0</td>\n",
       "      <td>0.0</td>\n",
       "    </tr>\n",
       "    <tr>\n",
       "      <th>65848</th>\n",
       "      <td>1.0</td>\n",
       "      <td>0.0</td>\n",
       "    </tr>\n",
       "    <tr>\n",
       "      <th>65849</th>\n",
       "      <td>1.0</td>\n",
       "      <td>0.0</td>\n",
       "    </tr>\n",
       "  </tbody>\n",
       "</table>\n",
       "<p>65850 rows × 2 columns</p>\n",
       "</div>"
      ],
      "text/plain": [
       "      Apartamento Casa\n",
       "0             0.0  1.0\n",
       "1             1.0  0.0\n",
       "2             0.0  1.0\n",
       "3             0.0  0.0\n",
       "4             0.0  1.0\n",
       "...           ...  ...\n",
       "65845         1.0  0.0\n",
       "65846         1.0  0.0\n",
       "65847         0.0  0.0\n",
       "65848         1.0  0.0\n",
       "65849         1.0  0.0\n",
       "\n",
       "[65850 rows x 2 columns]"
      ]
     },
     "execution_count": 37,
     "metadata": {},
     "output_type": "execute_result"
    }
   ],
   "source": [
    "nuevas_columsT"
   ]
  },
  {
   "cell_type": "code",
   "execution_count": 46,
   "metadata": {},
   "outputs": [
    {
     "data": {
      "text/plain": [
       "(65850, 9)"
      ]
     },
     "execution_count": 46,
     "metadata": {},
     "output_type": "execute_result"
    }
   ],
   "source": [
    "test = test[['lat','lon','rooms','surface_covered','bedrooms', 'bathrooms','surface_total']]\n",
    "datos = pd.concat([test,nuevas_columsT],axis=1)\n",
    "datos.shape"
   ]
  },
  {
   "cell_type": "code",
   "execution_count": 53,
   "metadata": {},
   "outputs": [
    {
     "data": {
      "text/plain": [
       "lat                0\n",
       "lon                0\n",
       "rooms              0\n",
       "surface_covered    0\n",
       "bedrooms           0\n",
       "bathrooms          0\n",
       "surface_total      0\n",
       "(Apartamento,)     0\n",
       "(Casa,)            0\n",
       "dtype: int64"
      ]
     },
     "execution_count": 53,
     "metadata": {},
     "output_type": "execute_result"
    }
   ],
   "source": [
    "datos.isnull().sum()"
   ]
  },
  {
   "cell_type": "markdown",
   "metadata": {},
   "source": [
    "A los datos faltantes le agrego el promedio de cada una de sus columnas"
   ]
  },
  {
   "cell_type": "code",
   "execution_count": 52,
   "metadata": {},
   "outputs": [],
   "source": [
    "imputer.fit(test[['surface_total']])\n",
    "datos['surface_total'] = imputer.transform(datos[['surface_total']])\n",
    "imputer.fit(test[['bathrooms']])\n",
    "datos['bathrooms'] = imputer.transform(datos[['bathrooms']])\n",
    "imputer.fit(test[['bedrooms']])\n",
    "datos['bedrooms'] = imputer.transform(datos[['bedrooms']])\n",
    "imputer.fit(test[['rooms']])\n",
    "datos['rooms'] = imputer.transform(datos[['rooms']])\n",
    "imputer.fit(test[['lat']])\n",
    "datos['lat'] = imputer.transform(datos[['lat']])\n",
    "imputer.fit(test[['lon']])\n",
    "datos['lon'] = imputer.transform(datos[['lon']])\n",
    "imputer.fit(test[['surface_covered']])\n",
    "datos['surface_covered'] = imputer.transform(datos[['surface_covered']])\n"
   ]
  },
  {
   "cell_type": "code",
   "execution_count": 54,
   "metadata": {},
   "outputs": [
    {
     "name": "stderr",
     "output_type": "stream",
     "text": [
      "C:\\Users\\julie\\AppData\\Local\\Packages\\PythonSoftwareFoundation.Python.3.8_qbz5n2kfra8p0\\LocalCache\\local-packages\\Python38\\site-packages\\sklearn\\utils\\validation.py:1858: FutureWarning: Feature names only support names that are all strings. Got feature names with dtypes: ['str', 'tuple']. An error will be raised in 1.2.\n",
      "  warnings.warn(\n"
     ]
    }
   ],
   "source": [
    "y_pre = modelo.predict(datos) #Predecimos"
   ]
  },
  {
   "cell_type": "code",
   "execution_count": 55,
   "metadata": {},
   "outputs": [
    {
     "data": {
      "text/html": [
       "<div>\n",
       "<style scoped>\n",
       "    .dataframe tbody tr th:only-of-type {\n",
       "        vertical-align: middle;\n",
       "    }\n",
       "\n",
       "    .dataframe tbody tr th {\n",
       "        vertical-align: top;\n",
       "    }\n",
       "\n",
       "    .dataframe thead th {\n",
       "        text-align: right;\n",
       "    }\n",
       "</style>\n",
       "<table border=\"1\" class=\"dataframe\">\n",
       "  <thead>\n",
       "    <tr style=\"text-align: right;\">\n",
       "      <th></th>\n",
       "      <th>pred</th>\n",
       "    </tr>\n",
       "  </thead>\n",
       "  <tbody>\n",
       "    <tr>\n",
       "      <th>0</th>\n",
       "      <td>1</td>\n",
       "    </tr>\n",
       "    <tr>\n",
       "      <th>1</th>\n",
       "      <td>0</td>\n",
       "    </tr>\n",
       "    <tr>\n",
       "      <th>2</th>\n",
       "      <td>0</td>\n",
       "    </tr>\n",
       "    <tr>\n",
       "      <th>3</th>\n",
       "      <td>1</td>\n",
       "    </tr>\n",
       "    <tr>\n",
       "      <th>4</th>\n",
       "      <td>1</td>\n",
       "    </tr>\n",
       "    <tr>\n",
       "      <th>...</th>\n",
       "      <td>...</td>\n",
       "    </tr>\n",
       "    <tr>\n",
       "      <th>65845</th>\n",
       "      <td>0</td>\n",
       "    </tr>\n",
       "    <tr>\n",
       "      <th>65846</th>\n",
       "      <td>0</td>\n",
       "    </tr>\n",
       "    <tr>\n",
       "      <th>65847</th>\n",
       "      <td>0</td>\n",
       "    </tr>\n",
       "    <tr>\n",
       "      <th>65848</th>\n",
       "      <td>0</td>\n",
       "    </tr>\n",
       "    <tr>\n",
       "      <th>65849</th>\n",
       "      <td>0</td>\n",
       "    </tr>\n",
       "  </tbody>\n",
       "</table>\n",
       "<p>65850 rows × 1 columns</p>\n",
       "</div>"
      ],
      "text/plain": [
       "       pred\n",
       "0         1\n",
       "1         0\n",
       "2         0\n",
       "3         1\n",
       "4         1\n",
       "...     ...\n",
       "65845     0\n",
       "65846     0\n",
       "65847     0\n",
       "65848     0\n",
       "65849     0\n",
       "\n",
       "[65850 rows x 1 columns]"
      ]
     },
     "execution_count": 55,
     "metadata": {},
     "output_type": "execute_result"
    }
   ],
   "source": [
    "pred = pd.DataFrame(y_pre,columns=['pred']) # Lo convertimo a un dataframe\n",
    "pred"
   ]
  },
  {
   "cell_type": "code",
   "execution_count": 56,
   "metadata": {},
   "outputs": [],
   "source": [
    "pred.to_csv('julieta77.csv', index=False) # lo convertimos a csv con mi nombre de github"
   ]
  }
 ],
 "metadata": {
  "kernelspec": {
   "display_name": "Python 3.8.10 64-bit (microsoft store)",
   "language": "python",
   "name": "python3"
  },
  "language_info": {
   "codemirror_mode": {
    "name": "ipython",
    "version": 3
   },
   "file_extension": ".py",
   "mimetype": "text/x-python",
   "name": "python",
   "nbconvert_exporter": "python",
   "pygments_lexer": "ipython3",
   "version": "3.8.10"
  },
  "orig_nbformat": 4,
  "vscode": {
   "interpreter": {
    "hash": "8f3385b3919e70041c4c66ad57a0189c8659d4414d2d728b3d53cf62916ee0a4"
   }
  }
 },
 "nbformat": 4,
 "nbformat_minor": 2
}
